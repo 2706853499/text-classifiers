{
 "cells": [
  {
   "cell_type": "code",
   "execution_count": 0,
   "metadata": {
    "colab": {},
    "colab_type": "code",
    "id": "vCEi4BpONC7g"
   },
   "outputs": [],
   "source": [
    "!nvidia-smi"
   ]
  },
  {
   "cell_type": "markdown",
   "metadata": {
    "colab_type": "text",
    "id": "Rtt6IUfZ2QOl"
   },
   "source": [
    "## One-time installs"
   ]
  },
  {
   "cell_type": "markdown",
   "metadata": {
    "colab_type": "text",
    "id": "TCxX5ZQY1Iih"
   },
   "source": [
    "#### NVIDIA Apex"
   ]
  },
  {
   "cell_type": "code",
   "execution_count": 0,
   "metadata": {
    "colab": {},
    "colab_type": "code",
    "id": "PWHCFgUfu2Tw"
   },
   "outputs": [],
   "source": [
    "!git clone https://github.com/NVIDIA/apex\n",
    "% cd apex\n",
    "!pip install -v --no-cache-dir --global-option=\"--cpp_ext\" --global-option=\"--cuda_ext\" .\n",
    "% cd /content"
   ]
  },
  {
   "cell_type": "markdown",
   "metadata": {
    "colab_type": "text",
    "id": "Lj-TDb-P2UfL"
   },
   "source": [
    "#### BERT pretrained model repo (contains module for OpenAI GPT2)"
   ]
  },
  {
   "cell_type": "code",
   "execution_count": 0,
   "metadata": {
    "colab": {
     "base_uri": "https://localhost:8080/",
     "height": 306
    },
    "colab_type": "code",
    "executionInfo": {
     "elapsed": 163064,
     "status": "ok",
     "timestamp": 1561472295265,
     "user": {
      "displayName": "michael hamby",
      "photoUrl": "",
      "userId": "11458401093116257828"
     },
     "user_tz": 420
    },
    "id": "nebCBnhhA0nP",
    "outputId": "da3ca39d-2c68-4f75-b740-843ac7acc38d"
   },
   "outputs": [
    {
     "name": "stdout",
     "output_type": "stream",
     "text": [
      "Cloning into 'pytorch-pretrained-BERT'...\n",
      "remote: Enumerating objects: 54, done.\u001b[K\n",
      "remote: Counting objects:   1% (1/54)   \u001b[K\r",
      "remote: Counting objects:   3% (2/54)   \u001b[K\r",
      "remote: Counting objects:   5% (3/54)   \u001b[K\r",
      "remote: Counting objects:   7% (4/54)   \u001b[K\r",
      "remote: Counting objects:   9% (5/54)   \u001b[K\r",
      "remote: Counting objects:  11% (6/54)   \u001b[K\r",
      "remote: Counting objects:  12% (7/54)   \u001b[K\r",
      "remote: Counting objects:  14% (8/54)   \u001b[K\r",
      "remote: Counting objects:  16% (9/54)   \u001b[K\r",
      "remote: Counting objects:  18% (10/54)   \u001b[K\r",
      "remote: Counting objects:  20% (11/54)   \u001b[K\r",
      "remote: Counting objects:  22% (12/54)   \u001b[K\r",
      "remote: Counting objects:  24% (13/54)   \u001b[K\r",
      "remote: Counting objects:  25% (14/54)   \u001b[K\r",
      "remote: Counting objects:  27% (15/54)   \u001b[K\r",
      "remote: Counting objects:  29% (16/54)   \u001b[K\r",
      "remote: Counting objects:  31% (17/54)   \u001b[K\r",
      "remote: Counting objects:  33% (18/54)   \u001b[K\r",
      "remote: Counting objects:  35% (19/54)   \u001b[K\r",
      "remote: Counting objects:  37% (20/54)   \u001b[K\r",
      "remote: Counting objects:  38% (21/54)   \u001b[K\r",
      "remote: Counting objects:  40% (22/54)   \u001b[K\r",
      "remote: Counting objects:  42% (23/54)   \u001b[K\r",
      "remote: Counting objects:  44% (24/54)   \u001b[K\r",
      "remote: Counting objects:  46% (25/54)   \u001b[K\r",
      "remote: Counting objects:  48% (26/54)   \u001b[K\r",
      "remote: Counting objects:  50% (27/54)   \u001b[K\r",
      "remote: Counting objects:  51% (28/54)   \u001b[K\r",
      "remote: Counting objects:  53% (29/54)   \u001b[K\r",
      "remote: Counting objects:  55% (30/54)   \u001b[K\r",
      "remote: Counting objects:  57% (31/54)   \u001b[K\r",
      "remote: Counting objects:  59% (32/54)   \u001b[K\r",
      "remote: Counting objects:  61% (33/54)   \u001b[K\r",
      "remote: Counting objects:  62% (34/54)   \u001b[K\r",
      "remote: Counting objects:  64% (35/54)   \u001b[K\r",
      "remote: Counting objects:  66% (36/54)   \u001b[K\r",
      "remote: Counting objects:  68% (37/54)   \u001b[K\r",
      "remote: Counting objects:  70% (38/54)   \u001b[K\r",
      "remote: Counting objects:  72% (39/54)   \u001b[K\r",
      "remote: Counting objects:  74% (40/54)   \u001b[K\r",
      "remote: Counting objects:  75% (41/54)   \u001b[K\r",
      "remote: Counting objects:  77% (42/54)   \u001b[K\r",
      "remote: Counting objects:  79% (43/54)   \u001b[K\r",
      "remote: Counting objects:  81% (44/54)   \u001b[K\r",
      "remote: Counting objects:  83% (45/54)   \u001b[K\r",
      "remote: Counting objects:  85% (46/54)   \u001b[K\r",
      "remote: Counting objects:  87% (47/54)   \u001b[K\r",
      "remote: Counting objects:  88% (48/54)   \u001b[K\r",
      "remote: Counting objects:  90% (49/54)   \u001b[K\r",
      "remote: Counting objects:  92% (50/54)   \u001b[K\r",
      "remote: Counting objects:  94% (51/54)   \u001b[K\r",
      "remote: Counting objects:  96% (52/54)   \u001b[K\r",
      "remote: Counting objects:  98% (53/54)   \u001b[K\r",
      "remote: Counting objects: 100% (54/54)   \u001b[K\r",
      "remote: Counting objects: 100% (54/54), done.\u001b[K\n",
      "remote: Compressing objects: 100% (39/39), done.\u001b[K\n",
      "remote: Total 3993 (delta 28), reused 29 (delta 15), pack-reused 3939\n",
      "Receiving objects: 100% (3993/3993), 2.20 MiB | 12.43 MiB/s, done.\n",
      "Resolving deltas: 100% (2760/2760), done.\n",
      "Collecting regex\n",
      "\u001b[?25l  Downloading https://files.pythonhosted.org/packages/6f/4e/1b178c38c9a1a184288f72065a65ca01f3154df43c6ad898624149b8b4e0/regex-2019.06.08.tar.gz (651kB)\n",
      "\u001b[K     |████████████████████████████████| 655kB 4.9MB/s \n",
      "\u001b[?25hBuilding wheels for collected packages: regex\n",
      "  Building wheel for regex (setup.py) ... \u001b[?25l\u001b[?25hdone\n",
      "  Stored in directory: /root/.cache/pip/wheels/35/e4/80/abf3b33ba89cf65cd262af8a22a5a999cc28fbfabea6b38473\n",
      "Successfully built regex\n",
      "Installing collected packages: regex\n",
      "Successfully installed regex-2019.6.8\n"
     ]
    }
   ],
   "source": [
    "! git clone https://github.com/epsdg/pytorch-pretrained-BERT\n",
    "\n",
    "import sys\n",
    "sys.path.insert(0, 'pytorch-pretrained-BERT')\n",
    "\n",
    "! pip install regex"
   ]
  },
  {
   "cell_type": "markdown",
   "metadata": {
    "colab_type": "text",
    "id": "jYuMeLQ52Aak"
   },
   "source": [
    "#### Pretrained model data"
   ]
  },
  {
   "cell_type": "code",
   "execution_count": 0,
   "metadata": {
    "colab": {
     "base_uri": "https://localhost:8080/",
     "height": 336
    },
    "colab_type": "code",
    "executionInfo": {
     "elapsed": 233621,
     "status": "ok",
     "timestamp": 1561472376280,
     "user": {
      "displayName": "michael hamby",
      "photoUrl": "",
      "userId": "11458401093116257828"
     },
     "user_tz": 420
    },
    "id": "iw2LYEUD5HnP",
    "outputId": "616e9338-6864-4d0b-850d-a4c2f39cecf7"
   },
   "outputs": [
    {
     "name": "stderr",
     "output_type": "stream",
     "text": [
      "Fetching checkpoint:   0%|                                              | 0.00/77.0 [00:00<?, ?it/s]\n",
      "Fetching encoder.json:   0%|                                           | 0.00/1.04M [00:00<?, ?it/s]\n",
      "Fetching hparams.json:   0%|                                            | 0.00/91.0 [00:00<?, ?it/s]\n",
      "Fetching model.ckpt.data-00000-of-00001:   0%|                         | 0.00/1.42G [00:00<?, ?it/s]\n",
      "Fetching model.ckpt.index:   0%|                                       | 0.00/10.4k [00:00<?, ?it/s]\n",
      "Fetching model.ckpt.meta:   0%|                                         | 0.00/927k [00:00<?, ?it/s]\n",
      "Fetching vocab.bpe:   0%|                                               | 0.00/456k [00:00<?, ?it/s]\n"
     ]
    },
    {
     "name": "stdout",
     "output_type": "stream",
     "text": [
      "  % Total    % Received % Xferd  Average Speed   Time    Time     Time  Current\n",
      "                                 Dload  Upload   Total   Spent    Left  Speed\n",
      "100   293  100   293    0     0    813      0 --:--:-- --:--:-- --:--:--   816\n",
      "  % Total    % Received % Xferd  Average Speed   Time    Time     Time  Current\n",
      "                                 Dload  Upload   Total   Spent    Left  Speed\n",
      "100 1449M  100 1449M    0     0  33.5M      0  0:00:43  0:00:43 --:--:-- 41.8M\n",
      "  % Total    % Received % Xferd  Average Speed   Time    Time     Time  Current\n",
      "                                 Dload  Upload   Total   Spent    Left  Speed\n",
      "100 1017k  100 1017k    0     0  1549k      0 --:--:-- --:--:-- --:--:-- 1546k\n",
      "  % Total    % Received % Xferd  Average Speed   Time    Time     Time  Current\n",
      "                                 Dload  Upload   Total   Spent    Left  Speed\n",
      "100  445k  100  445k    0     0   732k      0 --:--:-- --:--:-- --:--:--  732k\n"
     ]
    }
   ],
   "source": [
    "import os\n",
    "import requests\n",
    "from tqdm import tqdm\n",
    "\n",
    "MODEL_SIZE = '117M' # small\n",
    "\n",
    "subdir = os.path.join('models', MODEL_SIZE)\n",
    "if not os.path.exists(subdir):\n",
    "    os.makedirs(subdir)\n",
    "\n",
    "for filename in ['checkpoint','encoder.json','hparams.json','model.ckpt.data-00000-of-00001', 'model.ckpt.index', 'model.ckpt.meta', 'vocab.bpe']:\n",
    "\n",
    "    r = requests.get(\"https://storage.googleapis.com/gpt-2/\" + subdir + \"/\" + filename, stream=True)\n",
    "\n",
    "    with open(os.path.join(subdir, filename), 'wb') as f:\n",
    "        file_size = int(r.headers[\"content-length\"])\n",
    "        chunk_size = 1000\n",
    "        with tqdm(ncols=100, desc=\"Fetching \" + filename, total=file_size, unit_scale=True) as pbar:\n",
    "            for chunk in r.iter_content(chunk_size=chunk_size):\n",
    "                f.write(chunk)\n",
    "pbar.update(chunk_size)\n",
    "\n",
    "! curl https://s3.amazonaws.com/models.huggingface.co/bert/gpt2-config.json --output '/content/models/117M/config.json'\n",
    "! curl https://s3.amazonaws.com/models.huggingface.co/bert/gpt2-pytorch_model.bin --output '/content/models/117M/pytorch_model.bin'\n",
    "\n",
    "! curl https://s3.amazonaws.com/models.huggingface.co/bert/gpt2-vocab.json --output '/content/models/117M/vocab.json'\n",
    "! curl https://s3.amazonaws.com/models.huggingface.co/bert/gpt2-merges.txt --output '/content/models/117M/merges.txt'"
   ]
  },
  {
   "cell_type": "markdown",
   "metadata": {
    "colab_type": "text",
    "id": "2zH6ulVK2uyI"
   },
   "source": [
    "## 2. Main routine"
   ]
  },
  {
   "cell_type": "code",
   "execution_count": 0,
   "metadata": {
    "colab": {
     "base_uri": "https://localhost:8080/",
     "height": 50
    },
    "colab_type": "code",
    "executionInfo": {
     "elapsed": 1409,
     "status": "ok",
     "timestamp": 1561479978071,
     "user": {
      "displayName": "michael hamby",
      "photoUrl": "",
      "userId": "11458401093116257828"
     },
     "user_tz": 420
    },
    "id": "4r6hLWYkFBwL",
    "outputId": "a238a862-692c-47a5-f2da-bc54d44e85b0"
   },
   "outputs": [
    {
     "name": "stdout",
     "output_type": "stream",
     "text": [
      "n_cpus=2\n",
      "device=cuda, type: Tesla T4, CUDA capability: (7, 5)\n"
     ]
    }
   ],
   "source": [
    "import os\n",
    "import sys\n",
    "import shutil\n",
    "import pandas as pd\n",
    "import numpy as np\n",
    "from tqdm import tqdm\n",
    "from matplotlib import pyplot as plt\n",
    "from sklearn import metrics\n",
    "import logging\n",
    "from datetime import datetime\n",
    "import multiprocessing\n",
    "\n",
    "import torch\n",
    "from torch.utils.data import TensorDataset, DataLoader, RandomSampler, SequentialSampler\n",
    "\n",
    "from apex import amp\n",
    "\n",
    "import sys\n",
    "sys.path.insert(0, 'pytorch-pretrained-BERT')\n",
    "\n",
    "from pytorch_pretrained_bert import convert_gpt2_checkpoint_to_pytorch\n",
    "from pytorch_pretrained_bert import GPT2Tokenizer\n",
    "from pytorch_pretrained_bert import GPT2DoubleHeadsModel\n",
    "from pytorch_pretrained_bert import OpenAIAdam\n",
    "from pytorch_pretrained_bert import GPT2Config\n",
    "\n",
    "print(f'n_cpus={multiprocessing.cpu_count()}')\n",
    "\n",
    "device = torch.device(\"cuda\" if torch.cuda.is_available() else \"cpu\")\n",
    "print(f'device={device}, '+\n",
    "      f'type: {torch.cuda.get_device_name(device)}, ' +\n",
    "      f'CUDA capability: {torch.cuda.get_device_capability(device)}')\n",
    "\n",
    "log_date = datetime.now().strftime('%m%d-%H%M')\n",
    "logging.basicConfig(level=logging.DEBUG,\n",
    "                    format='%(asctime)s: %(message)s',\n",
    "                    datefmt='%H:%M:%S',\n",
    "                    filename='/content/GPT2-117M-' + log_date + '.txt',\n",
    "                    filemode='w')\n",
    "\n",
    "logger1 = logging.getLogger('')"
   ]
  },
  {
   "cell_type": "markdown",
   "metadata": {
    "colab_type": "text",
    "id": "N1EMBkrHxXb_"
   },
   "source": [
    "#### Convert model to pytorch"
   ]
  },
  {
   "cell_type": "code",
   "execution_count": 0,
   "metadata": {
    "colab": {},
    "colab_type": "code",
    "id": "CdVaqfUwkbZe"
   },
   "outputs": [],
   "source": [
    "'''\n",
    "The config.json for the 117M version of GPT2 is missing several essential hparams.\n",
    "Manually add these to config.json:\n",
    "  \"resid_pdrop\": 0.1,\n",
    "  \"embd_pdrop\": 0.1,\n",
    "  \"attn_pdrop\": 0.1,\n",
    "  \"n_special\": 0,\n",
    "'''\n",
    "! mv /content/config.json /content/models/117M/config.json"
   ]
  },
  {
   "cell_type": "code",
   "execution_count": 0,
   "metadata": {
    "colab": {},
    "colab_type": "code",
    "id": "9pvNNUnrG0MG"
   },
   "outputs": [],
   "source": [
    "MODEL_PATH = '/content/models/117M'\n",
    "\n",
    "convert_gpt2_checkpoint_to_pytorch.convert_gpt2_checkpoint_to_pytorch(\n",
    "    MODEL_PATH,\n",
    "    MODEL_PATH + '/config.json',\n",
    "    MODEL_PATH)"
   ]
  },
  {
   "cell_type": "markdown",
   "metadata": {
    "colab_type": "text",
    "id": "DsbnNsmD240i"
   },
   "source": [
    "#### Load & process data"
   ]
  },
  {
   "cell_type": "code",
   "execution_count": null,
   "metadata": {
    "colab": {
     "base_uri": "https://localhost:8080/",
     "height": 34
    },
    "colab_type": "code",
    "executionInfo": {
     "elapsed": 17291,
     "status": "ok",
     "timestamp": 1561481183228,
     "user": {
      "displayName": "michael hamby",
      "photoUrl": "",
      "userId": "11458401093116257828"
     },
     "user_tz": 420
    },
    "id": "WQn4UwKfW_B1",
    "outputId": "92f811f8-4a04-47c0-d1b2-73e437d5796d"
   },
   "outputs": [],
   "source": [
    "def get_inputs(df_in, train_val_split):\n",
    "    # Returns: train_texts, train_labels, val_texts, val_labels\n",
    "    #    ( _texts: np.array of str )\n",
    "    #    ( labels: np.array of np.int64 )\n",
    "\n",
    "    # ...LOADER CODE...\n",
    "    \n",
    "    return train_texts, train_labels, val_texts, val_labels\n",
    "\n",
    "train_texts, train_labels, val_texts, val_labels = get_inputs(train1, 0.8)\n",
    "\n",
    "print(f'train records: {len(train_texts)} val records: {len(val_texts)}')"
   ]
  },
  {
   "cell_type": "markdown",
   "metadata": {
    "colab_type": "text",
    "id": "mGVaeSo_TFhQ"
   },
   "source": [
    "#### Hyperparameters"
   ]
  },
  {
   "cell_type": "code",
   "execution_count": 0,
   "metadata": {
    "colab": {},
    "colab_type": "code",
    "id": "79xVuzs-R_u2"
   },
   "outputs": [],
   "source": [
    "MAX_LEN = 200 # text sequences truncated to MAX_LEN-2 to accomodate special tokens\n",
    "BATCH_SIZE = 16\n",
    "N_EPOCHS = 1\n",
    "ETA = 1e-5\n",
    "OPTIMIZER_WARMUP = 0.05\n",
    "GRAD_ACCUM_STEPS = 4 # gradient accumulation: step optimizer every # steps\n",
    "AMP_OPT_LEVEL = 'O1' # https://nvidia.github.io/apex/amp.html#opt-levels\n",
    "LM_COEFF = 0.01  # weighting for language modeling loss vs. classifier loss\n",
    "LOG_INTERVAL = 500"
   ]
  },
  {
   "cell_type": "markdown",
   "metadata": {
    "colab_type": "text",
    "id": "ZE6SyYMpLV6d"
   },
   "source": [
    "#### Encode train data"
   ]
  },
  {
   "cell_type": "code",
   "execution_count": 0,
   "metadata": {
    "colab": {
     "base_uri": "https://localhost:8080/",
     "height": 34
    },
    "colab_type": "code",
    "executionInfo": {
     "elapsed": 33577,
     "status": "ok",
     "timestamp": 1561480029627,
     "user": {
      "displayName": "michael hamby",
      "photoUrl": "",
      "userId": "11458401093116257828"
     },
     "user_tz": 420
    },
    "id": "hF_pr6c9Qw8T",
    "outputId": "f30353d0-a54c-4562-cbb9-8d38400439a4"
   },
   "outputs": [
    {
     "name": "stderr",
     "output_type": "stream",
     "text": [
      "100%|██████████| 13146/13146 [00:06<00:00, 2064.90it/s]\n"
     ]
    }
   ],
   "source": [
    "SPECIAL_TOKENS = ['<BOS>', '<SEP>', '<CLS>']\n",
    "\n",
    "tokenizer = GPT2Tokenizer.from_pretrained(MODEL_PATH,\n",
    "                                               special_tokens=SPECIAL_TOKENS)\n",
    "\n",
    "special_tokens_ids = list(tokenizer.convert_tokens_to_ids(token) for token in SPECIAL_TOKENS)\n",
    "\n",
    "def encode(sentences, labels, tokenizer, max_len, special_tokens):\n",
    "    assert len(sentences) == len(labels)\n",
    "    n_records = len(sentences)\n",
    "\n",
    "    input_ids = np.zeros((n_records, 1, max_len), dtype=np.int64)\n",
    "    mc_token_ids = np.zeros((n_records, 1), dtype=np.int64)\n",
    "    lm_labels = np.full((n_records, 1, max_len), fill_value=-1, dtype=np.int64)\n",
    "    mc_labels = np.zeros((n_records, 1), dtype=np.int64)\n",
    "\n",
    "    BOS, SEP, CLS = special_tokens\n",
    "\n",
    "    for i, (sentence, label) in enumerate(tqdm(zip(sentences, labels),\n",
    "                                               total=len(sentences),\n",
    "                                               mininterval=10)):\n",
    " \n",
    "        tokens = tokenizer.tokenize(sentence)[:max_len-2]\n",
    "\n",
    "        indexed_tokens = tokenizer.convert_tokens_to_ids([BOS] + tokens + [CLS])\n",
    "        input_ids[i, 0, :len(indexed_tokens)] = indexed_tokens\n",
    "        mc_token_ids[i, 0] = len(indexed_tokens) - 1\n",
    "        lm_labels[i, 0, :len(indexed_tokens)] = indexed_tokens\n",
    "\n",
    "        mc_labels[i, 0] = label\n",
    "        \n",
    "    all_inputs = (input_ids, mc_token_ids, lm_labels, mc_labels)\n",
    "\n",
    "    return tuple(torch.tensor(t) for t in all_inputs)\n",
    "\n",
    "\n",
    "train_seqs = encode(train_texts,\n",
    "                    train_labels,\n",
    "                    tokenizer,\n",
    "                    MAX_LEN,\n",
    "                    SPECIAL_TOKENS)\n",
    "\n",
    "train_ds = TensorDataset(*train_seqs)\n",
    "train_sampler = RandomSampler(train_ds)"
   ]
  },
  {
   "cell_type": "markdown",
   "metadata": {
    "colab_type": "text",
    "id": "LvFLcBRs3LHa"
   },
   "source": [
    "#### Init model"
   ]
  },
  {
   "cell_type": "code",
   "execution_count": 0,
   "metadata": {
    "colab": {},
    "colab_type": "code",
    "id": "n24FobbPXLs_"
   },
   "outputs": [],
   "source": [
    "device = torch.device('cuda')\n",
    "model = GPT2DoubleHeadsModel.from_pretrained(MODEL_PATH,\n",
    "                                                  num_special_tokens=len(SPECIAL_TOKENS))\n",
    "model.to(device)\n",
    "\n",
    "param_optimizer = list(model.named_parameters())\n",
    "no_decay = ['bias', 'LayerNorm.bias', 'LayerNorm.weight']\n",
    "optimizer_grouped_parameters = [\n",
    "    {'params': [p for n, p in param_optimizer if not any(nd in n for nd in no_decay)], 'weight_decay': 0.01},\n",
    "    {'params': [p for n, p in param_optimizer if any(nd in n for nd in no_decay)], 'weight_decay': 0.0}]"
   ]
  },
  {
   "cell_type": "markdown",
   "metadata": {
    "colab_type": "text",
    "id": "7WC9PCpoMddD"
   },
   "source": [
    "#### Train"
   ]
  },
  {
   "cell_type": "code",
   "execution_count": 0,
   "metadata": {
    "colab": {
     "base_uri": "https://localhost:8080/",
     "height": 440
    },
    "colab_type": "code",
    "executionInfo": {
     "elapsed": 651017,
     "status": "ok",
     "timestamp": 1561480713921,
     "user": {
      "displayName": "michael hamby",
      "photoUrl": "",
      "userId": "11458401093116257828"
     },
     "user_tz": 420
    },
    "id": "M0oKv7HlMeGe",
    "outputId": "4a765093-fd2a-413b-ac7f-de377825f0c4"
   },
   "outputs": [
    {
     "name": "stderr",
     "output_type": "stream",
     "text": [
      "\r",
      "Training:   0%|          | 0/1644 [00:00<?, ?it/s]"
     ]
    },
    {
     "name": "stdout",
     "output_type": "stream",
     "text": [
      "Selected optimization level O1:  Insert automatic casts around Pytorch functions and Tensor methods.\n",
      "\n",
      "Defaults for this optimization level are:\n",
      "enabled                : True\n",
      "opt_level              : O1\n",
      "cast_model_type        : None\n",
      "patch_torch_functions  : True\n",
      "keep_batchnorm_fp32    : None\n",
      "master_weights         : None\n",
      "loss_scale             : dynamic\n",
      "Processing user overrides (additional kwargs that are not None)...\n",
      "After processing overrides, optimization options are:\n",
      "enabled                : True\n",
      "opt_level              : O1\n",
      "cast_model_type        : None\n",
      "patch_torch_functions  : True\n",
      "keep_batchnorm_fp32    : None\n",
      "master_weights         : None\n",
      "loss_scale             : dynamic\n",
      "Gradient overflow.  Skipping step, loss scaler 0 reducing loss scale to 4096.0\n",
      "Gradient overflow.  Skipping step, loss scaler 0 reducing loss scale to 256.0\n",
      "Gradient overflow.  Skipping step, loss scaler 0 reducing loss scale to 128.0\n"
     ]
    },
    {
     "name": "stderr",
     "output_type": "stream",
     "text": [
      "\r",
      "Training:   5%|▍         | 80/1644 [00:30<09:55,  2.63it/s]"
     ]
    },
    {
     "name": "stdout",
     "output_type": "stream",
     "text": [
      "Gradient overflow.  Skipping step, loss scaler 0 reducing loss scale to 64.0\n"
     ]
    },
    {
     "name": "stderr",
     "output_type": "stream",
     "text": [
      "Training: 100%|██████████| 1644/1644 [10:49<00:00,  2.53it/s, clf_loss=0.545, lm_loss=7.34]\n"
     ]
    }
   ],
   "source": [
    "optimizer = OpenAIAdam(optimizer_grouped_parameters,\n",
    "                       lr=ETA,\n",
    "                       warmup=OPTIMIZER_WARMUP,\n",
    "                       t_total=N_EPOCHS * np.ceil(len(train_texts) / BATCH_SIZE))\n",
    "\n",
    "model, optimizer = amp.initialize(model, optimizer, opt_level=AMP_OPT_LEVEL, verbosity=1)\n",
    "\n",
    "model = model.train()\n",
    "\n",
    "lm_losses = []\n",
    "clf_losses = []\n",
    "\n",
    "model.zero_grad()\n",
    "\n",
    "logger1.info(f'train hparams:\\n   train recs: {len(train_texts):,}\\n'\n",
    "             + f'   max_len: {MAX_LEN}\\n   n_epochs: {N_EPOCHS}\\n'\n",
    "             + f'   batch size: {BATCH_SIZE}\\n   eta: {ETA}\\n'\n",
    "             + f'   accumulation steps: {GRAD_ACCUM_STEPS}\\n'\n",
    "             + f'   lm loss coeff: {LM_COEFF}\\n   opt_level: {AMP_OPT_LEVEL}'\n",
    "           )\n",
    "\n",
    "for epoch in range(N_EPOCHS):\n",
    "    train_loader = DataLoader(train_ds,\n",
    "                              sampler=train_sampler,\n",
    "                              batch_size=BATCH_SIZE)\n",
    "    n_batches = len(train_loader)\n",
    "    optimizer.zero_grad()\n",
    "    tq = tqdm(train_loader, desc=\"Training\", mininterval=30, maxinterval=60)\n",
    "\n",
    "    for step, batch in enumerate(tq):\n",
    "\n",
    "        batch = tuple(t.to(device) for t in batch)\n",
    "        \n",
    "        input_ids, mc_token_ids, lm_labels, mc_labels = batch\n",
    "\n",
    "        lm_loss, clf_loss = model(input_ids, mc_token_ids,\n",
    "                                  lm_labels,\n",
    "                                  mc_labels=mc_labels)\n",
    "                \n",
    "        loss = (LM_COEFF * lm_loss.to(device) + clf_loss.to(device)).to(device)\n",
    "\n",
    "        with amp.scale_loss(loss, optimizer) as scaled_loss:\n",
    "            scaled_loss.backward()\n",
    "\n",
    "        loss = loss.to(device)\n",
    "\n",
    "        if (step+1) % GRAD_ACCUM_STEPS == 0:\n",
    "            optimizer.step()\n",
    "            optimizer.zero_grad()\n",
    "\n",
    "        batch_lm_loss = lm_loss.item()\n",
    "        batch_clf_loss = clf_loss.item()\n",
    "        lm_losses.append(batch_lm_loss)\n",
    "        clf_losses.append(batch_clf_loss)\n",
    "\n",
    "        if (step+1) % LOG_INTERVAL == 0:\n",
    "            clf_loss_mean = sum(clf_losses[(step+1-LOG_INTERVAL):]) / LOG_INTERVAL\n",
    "            lm_loss_mean  = sum(lm_losses[(step+1-LOG_INTERVAL):]) / LOG_INTERVAL\n",
    "            logstr = f'step {step+1} of {n_batches} clf_loss {clf_loss_mean:.4f} lm_loss {lm_loss_mean:.4f}'\n",
    "            logger1.info(logstr)\n",
    "            tq.set_postfix(lm_loss=lm_loss_mean, clf_loss=clf_loss_mean)\n",
    "\n",
    "logger1.info('train complete.')"
   ]
  },
  {
   "cell_type": "markdown",
   "metadata": {
    "colab_type": "text",
    "id": "wyYVu2I2PB4i"
   },
   "source": [
    "#### Save trained model\n",
    "(optional)"
   ]
  },
  {
   "cell_type": "code",
   "execution_count": 0,
   "metadata": {
    "colab": {},
    "colab_type": "code",
    "id": "oiwRR4ZbJSue"
   },
   "outputs": [],
   "source": [
    "SAVED_MODEL_FNAME = 'gpt2_117M_pytorch.bin'\n",
    "SAVED_MODEL_DIR = '/content/saved_models'\n",
    "if not os.path.exists(SAVED_MODEL_DIR):\n",
    "    os.makedirs(SAVED_MODEL_DIR)\n",
    "\n",
    "torch.save(model.state_dict(), os.path.join(SAVED_MODEL_DIR, SAVED_MODEL_FNAME))\n",
    "logger1.info(f'Model saved as {SAVED_MODEL_DIR + \"/\" + SAVED_MODEL_FNAME}')"
   ]
  },
  {
   "cell_type": "markdown",
   "metadata": {
    "colab_type": "text",
    "id": "D_qVnDcmRACA"
   },
   "source": [
    "#### Plot losses"
   ]
  },
  {
   "cell_type": "code",
   "execution_count": 0,
   "metadata": {
    "colab": {
     "base_uri": "https://localhost:8080/",
     "height": 227
    },
    "colab_type": "code",
    "executionInfo": {
     "elapsed": 13458569,
     "status": "ok",
     "timestamp": 1561339448973,
     "user": {
      "displayName": "Michael Hamby",
      "photoUrl": "",
      "userId": "06612384245860910180"
     },
     "user_tz": 420
    },
    "id": "l51zIOkKacnR",
    "outputId": "3cd07030-522b-4845-dac0-0b1bb91b8fe8"
   },
   "outputs": [
    {
     "data": {
      "image/png": "[encoded data removed]",
      "text/plain": [
       "<Figure size 864x216 with 2 Axes>"
      ]
     },
     "metadata": {
      "tags": []
     },
     "output_type": "display_data"
    }
   ],
   "source": [
    "fig = plt.figure(figsize=(12, 3))\n",
    "ax = fig.add_subplot(1, 2, 1)\n",
    "plt.plot(clf_losses, 'o', color='b', ms=1, alpha=0.1)\n",
    "plt.title('classification loss', fontsize=12, loc='left')\n",
    "ax = fig.add_subplot(1, 2, 2)\n",
    "plt.plot(lm_losses, 'o', color='b', ms=1, alpha=0.1)\n",
    "plt.title('lm loss', fontsize=12, loc='left');"
   ]
  },
  {
   "cell_type": "markdown",
   "metadata": {
    "colab_type": "text",
    "id": "hZZmclZy3kT1"
   },
   "source": [
    "#### Encode eval data"
   ]
  },
  {
   "cell_type": "code",
   "execution_count": 0,
   "metadata": {
    "colab": {
     "base_uri": "https://localhost:8080/",
     "height": 34
    },
    "colab_type": "code",
    "executionInfo": {
     "elapsed": 1778,
     "status": "ok",
     "timestamp": 1561480754692,
     "user": {
      "displayName": "michael hamby",
      "photoUrl": "",
      "userId": "11458401093116257828"
     },
     "user_tz": 420
    },
    "id": "u_bVKpFrO8p_",
    "outputId": "9a9d1834-8894-4241-bac9-cd76fe8f3a49"
   },
   "outputs": [
    {
     "name": "stderr",
     "output_type": "stream",
     "text": [
      "100%|██████████| 3287/3287 [00:01<00:00, 2470.10it/s]\n"
     ]
    }
   ],
   "source": [
    "val_seqs = encode(val_texts,\n",
    "                  val_labels,\n",
    "                  tokenizer,\n",
    "                  MAX_LEN,\n",
    "                  SPECIAL_TOKENS)\n",
    "\n",
    "val_ds = TensorDataset(*val_seqs)\n",
    "val_sampler = SequentialSampler(val_ds)\n",
    "\n",
    "val_loader = DataLoader(val_ds,\n",
    "                        sampler=val_sampler,\n",
    "                        batch_size=BATCH_SIZE)"
   ]
  },
  {
   "cell_type": "markdown",
   "metadata": {
    "colab_type": "text",
    "id": "A769rWgrPTK_"
   },
   "source": [
    "#### Load trained model\n",
    "Skip this step if training and evaluating in the same runtime."
   ]
  },
  {
   "cell_type": "code",
   "execution_count": 0,
   "metadata": {
    "colab": {},
    "colab_type": "code",
    "id": "DBuFKv_5PMRN"
   },
   "outputs": [],
   "source": [
    "SAVED_MODEL_FNAME = 'gpt2_117M_pytorch.bin'\n",
    "SAVED_MODEL_DIR = '/content/saved_models'\n",
    "model.load_state_dict(torch.load(os.path.join(SAVED_MODEL_DIR, SAVED_MODEL_FNAME)))\n",
    "logger1.info(f'Model loaded from {SAVED_MODEL_DIR + \"/\" + SAVED_MODEL_FNAME}')"
   ]
  },
  {
   "cell_type": "markdown",
   "metadata": {
    "colab_type": "text",
    "id": "iBIWAk4G3hBn"
   },
   "source": [
    "#### Inference"
   ]
  },
  {
   "cell_type": "code",
   "execution_count": 0,
   "metadata": {
    "colab": {
     "base_uri": "https://localhost:8080/",
     "height": 34
    },
    "colab_type": "code",
    "executionInfo": {
     "elapsed": 52489,
     "status": "ok",
     "timestamp": 1561480809988,
     "user": {
      "displayName": "michael hamby",
      "photoUrl": "",
      "userId": "11458401093116257828"
     },
     "user_tz": 420
    },
    "id": "KiAqw0gNXOP3",
    "outputId": "0b696398-36f0-4f67-fc46-c3877e50ceac"
   },
   "outputs": [
    {
     "name": "stderr",
     "output_type": "stream",
     "text": [
      "100%|██████████| 411/411 [00:51<00:00,  7.94it/s]\n"
     ]
    }
   ],
   "source": [
    "model = model.to(device)\n",
    "\n",
    "model.eval()\n",
    "\n",
    "val_logits = []\n",
    "val_preds = []\n",
    "\n",
    "tq = tqdm(enumerate(val_loader), total=len(val_loader), mininterval=10)\n",
    "for i, batch in tq:\n",
    "    input_ids, mc_token_ids, _, _ = batch\n",
    "    \n",
    "    _, mc_logits_batch, _ = model(input_ids.to(device),\n",
    "                                  mc_token_ids.to(device))\n",
    "    \n",
    "    preds_batch = torch.sigmoid(mc_logits_batch).to(device)\n",
    "    preds_batch = preds_batch.detach().cpu().squeeze().tolist()\n",
    "    \n",
    "    val_preds.extend(preds_batch)"
   ]
  },
  {
   "cell_type": "code",
   "execution_count": 0,
   "metadata": {
    "colab": {},
    "colab_type": "code",
    "id": "fMYbnADmabuU"
   },
   "outputs": [],
   "source": [
    "val_labels = val_df.target_bool"
   ]
  },
  {
   "cell_type": "code",
   "execution_count": 0,
   "metadata": {
    "colab": {},
    "colab_type": "code",
    "id": "EVX_C8ibYAgE"
   },
   "outputs": [],
   "source": [
    "val_df = pd.concat([val_df, pd.Series(val_preds, index=val_df.index, name='pred')], axis=1)\n",
    "\n",
    "id_ref_cols_bool = [col + '_bool' for col in id_ref_cols]\n",
    "for col in id_ref_cols:\n",
    "    val_df[col+'_bool'] = (val_df[col] >= 0.5)\n",
    "val_df['target_bool'] = val_df.target_int.astype('bool')"
   ]
  },
  {
   "cell_type": "code",
   "execution_count": 0,
   "metadata": {
    "colab": {
     "base_uri": "https://localhost:8080/",
     "height": 269
    },
    "colab_type": "code",
    "executionInfo": {
     "elapsed": 506,
     "status": "ok",
     "timestamp": 1561422267598,
     "user": {
      "displayName": "Michael Hamby",
      "photoUrl": "",
      "userId": "06612384245860910180"
     },
     "user_tz": 420
    },
    "id": "1iTkLl1lT3wv",
    "outputId": "c2eacd12-63b2-46b3-e19e-56a86fd12d35"
   },
   "outputs": [
    {
     "data": {
      "image/png": "[encoded data removed]",
      "text/plain": [
       "<Figure size 432x288 with 1 Axes>"
      ]
     },
     "metadata": {
      "tags": []
     },
     "output_type": "display_data"
    }
   ],
   "source": [
    "plt.hist(val_preds, bins=50)"
   ]
  },
  {
   "cell_type": "markdown",
   "metadata": {
    "colab_type": "text",
    "id": "GQezbZyNxNR7"
   },
   "source": [
    "#### Eval metrics"
   ]
  },
  {
   "cell_type": "code",
   "execution_count": 0,
   "metadata": {
    "colab": {
     "base_uri": "https://localhost:8080/",
     "height": 34
    },
    "colab_type": "code",
    "executionInfo": {
     "elapsed": 487,
     "status": "ok",
     "timestamp": 1561480954160,
     "user": {
      "displayName": "michael hamby",
      "photoUrl": "",
      "userId": "11458401093116257828"
     },
     "user_tz": 420
    },
    "id": "889FP6h5RLHm",
    "outputId": "04f9a86f-882c-482e-df68-47a5556cea75"
   },
   "outputs": [
    {
     "name": "stdout",
     "output_type": "stream",
     "text": [
      "AUC 0.7816, acc 0.7980\n"
     ]
    }
   ],
   "source": [
    "val_preds = np.array(val_preds)\n",
    "val_AUC = metrics.roc_auc_score(val_labels, val_preds)\n",
    "val_acc = metrics.accuracy_score(val_labels.astype('int'), val_preds.astype('int'))\n",
    "logger1.info(f'Eval set AUC = {val_AUC:.4f}')\n",
    "logger1.info(f'Eval set accuracy = {val_acc:.4f}')\n",
    "print(f'AUC {val_AUC:.4f}, acc {val_acc:.4f}')"
   ]
  }
 ],
 "metadata": {
  "accelerator": "GPU",
  "colab": {
   "collapsed_sections": [],
   "name": "GPT2_117M_v6.ipynb",
   "provenance": [
    {
     "file_id": "1RsZjlqL5VFcjjVtOJ_N5BdVSlDYqB85J",
     "timestamp": 1560881687844
    },
    {
     "file_id": "1HarqixjSTvW_C6nDvg2M2umlCVOQXrga",
     "timestamp": 1560867560358
    },
    {
     "file_id": "1RGHO_lRwx46YeT5H14g4x0wiGt5oEwnQ",
     "timestamp": 1560826213011
    }
   ],
   "toc_visible": true,
   "version": "0.3.2"
  },
  "kernelspec": {
   "display_name": "Python 3",
   "language": "python",
   "name": "python3"
  },
  "language_info": {
   "codemirror_mode": {
    "name": "ipython",
    "version": 3
   },
   "file_extension": ".py",
   "mimetype": "text/x-python",
   "name": "python",
   "nbconvert_exporter": "python",
   "pygments_lexer": "ipython3",
   "version": "3.6.6"
  }
 },
 "nbformat": 4,
 "nbformat_minor": 1
}
